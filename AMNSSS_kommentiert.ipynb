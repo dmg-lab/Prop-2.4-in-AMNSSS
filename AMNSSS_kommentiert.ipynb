{
 "cells": [
  {
   "cell_type": "code",
   "execution_count": 1,
   "id": "8858f862",
   "metadata": {},
   "outputs": [
    {
     "name": "stdout",
     "output_type": "stream",
     "text": [
      "  ___   ____   ____    _    ____\n",
      " / _ \\ / ___| / ___|  / \\  |  _ \\   |  Combining ANTIC, GAP, Polymake, Singular\n",
      "| | | |\\___ \\| |     / _ \\ | |_) |  |  Type \"?Oscar\" for more information\n",
      "| |_| | ___) | |___ / ___ \\|  _ <   |  Manual: https://docs.oscar-system.org\n",
      " \\___/ |____/ \\____/_/   \\_\\_| \\_\\  |  Version 1.3.1\n"
     ]
    }
   ],
   "source": [
    "using Oscar"
   ]
  },
  {
   "cell_type": "markdown",
   "id": "de54d4fa",
   "metadata": {},
   "source": [
    "Dieses Notebook bezieht sich auf Proposition 2.4 des Papers \"Recovery of Plane Curves from Branch Points\", 2023, Agostini et al. (https://doi.org/10.1007/s00454-023-00538-5). Die folgenden Berechnungen sollen die Aussage der Proposition für den Fall $d=4$ widerlegen."
   ]
  },
  {
   "cell_type": "markdown",
   "id": "a40c3345",
   "metadata": {},
   "source": [
    "Im Folgenden wird zunächst eine allgemeine ternäre Form $F$ definiert, dessen Bild unter der Diskriminantenabbildung $D$ sowie das Ideal $I$, welches die Menge der nicht-regulären Punkte der Diskriminantenabbildung definiert. Letzteres wird erzeugt durch die Koeffizienten der Diskriminante einer allgemeinen ternären Form vom Grad $4$."
   ]
  },
  {
   "cell_type": "code",
   "execution_count": 2,
   "id": "02dc5ab5",
   "metadata": {
    "scrolled": false
   },
   "outputs": [],
   "source": [
    "A, a = graded_polynomial_ring(QQ, \"a\" => 1:15)\n",
    "S, (x, y) = A[:x, :y]\n",
    "T, z = S[:z]\n",
    "F = a[1]*x^4 + a[2]*x^3*y + a[3]*x^2*y^2 + a[4]*x*y^3 + a[5]*y^4 + a[6]*x^3*z + a[7]*x^2*y*z + a[8]*x*y^2*z + a[9]y^3*z + \n",
    "    a[10]*x^2*z^2 + a[11]*x*y*z^2 + a[12]*y^2*z^2 + a[13]*x*z^3 + a[14]*y*z^3 + a[15]*z^4\n",
    "D = discriminant(F)\n",
    "I = ideal(A, collect(coefficients(D)));"
   ]
  },
  {
   "cell_type": "markdown",
   "id": "3875a231",
   "metadata": {},
   "source": [
    "Weiter definieren wir das Ideal $J$, welches die Komponente aller an $p = (0:0:1)$ singulären Kurven definiert. Diese Kurven sind genau dadurch charakterisiert, dass die Koeffizienten der Monome $xz^3$, $yz^3$ und $z^4$ verschwinden. Außerdem wird geprüft, ob dies tatsächlich eine Komponente der Menge der nicht-regulären Punkte der Diskriminantenabbildung ist, indem geprüft wird ob die Inklusion $I \\subseteq J$ gilt."
   ]
  },
  {
   "cell_type": "code",
   "execution_count": 3,
   "id": "98bef5f2",
   "metadata": {},
   "outputs": [
    {
     "data": {
      "text/plain": [
       "true"
      ]
     },
     "execution_count": 3,
     "metadata": {},
     "output_type": "execute_result"
    }
   ],
   "source": [
    "J = ideal(A, [a[13], a[14], a[15]])\n",
    "prod([g in J for g in gens(I)])"
   ]
  },
  {
   "cell_type": "markdown",
   "id": "39af549d",
   "metadata": {},
   "source": [
    "Als nächstes definieren wir das Ideal $K$, welches den Ort aller nicht-reduzierten Kurven mit einem linearen Faktor der Vielfachheit $\\geq 2$ definiert. Dieses kann berechnet werden als Kern des unten aufgeführten Homomorphismus. "
   ]
  },
  {
   "cell_type": "code",
   "execution_count": null,
   "id": "edf13c9c",
   "metadata": {},
   "outputs": [],
   "source": [
    "B, b = polynomial_ring(QQ, \"b\" => 1:9)\n",
    "U, (u, v, w) = B[:u, :v, :w]\n",
    "G = (b[1]*u + b[2]*v + b[3]*w)^2 * (b[4]*u^2 + b[5]*v^2 + b[6]*w^2 + b[7]*u*v + b[8]*u*w + b[9]*v*w)\n",
    "f = hom(A, B, collect(coefficients(G)))\n",
    "K = kernel(f);"
   ]
  },
  {
   "cell_type": "code",
   "execution_count": null,
   "id": "db802363",
   "metadata": {},
   "outputs": [],
   "source": [
    "save(\"AMNSSS_K\", K)"
   ]
  },
  {
   "cell_type": "markdown",
   "id": "8d374d56",
   "metadata": {},
   "source": [
    "Da diese Berechnung sehr zeitaufwendig ist, kann dieses vorher berechnete Ideal auch separat geladen werden."
   ]
  },
  {
   "cell_type": "code",
   "execution_count": 4,
   "id": "ec172b31",
   "metadata": {},
   "outputs": [],
   "source": [
    "K = load(\"AMNSSS_K\");"
   ]
  },
  {
   "cell_type": "markdown",
   "id": "1e767490",
   "metadata": {},
   "source": [
    "Es verbleibt das Ideal $L$, welches den Ort aller nicht-reduzierten Kurven mit einem vielfachen quadratischen Faktor definiert. Wir können überprüfen, dass dies tatsächlich eine Komponente der Menge der nicht-regulären Punkte der Diskriminantenabbildung ist."
   ]
  },
  {
   "cell_type": "code",
   "execution_count": 5,
   "id": "25a0cfc0",
   "metadata": {},
   "outputs": [
    {
     "data": {
      "text/plain": [
       "true"
      ]
     },
     "execution_count": 5,
     "metadata": {},
     "output_type": "execute_result"
    }
   ],
   "source": [
    "C, c = polynomial_ring(QQ, \"c\" => 1:6)\n",
    "P, (p, q, r) = C[:p, :q, :r]\n",
    "H = (c[1]*p^2 + c[2]*q^2 + c[3]*r^2 + c[4]*p*q + c[5]*p*r + c[6]*q*r)^2\n",
    "h = hom(A, C, collect(coefficients(H)))\n",
    "L = kernel(h)\n",
    "prod([g in L for g in gens(I)])"
   ]
  },
  {
   "cell_type": "markdown",
   "id": "e625669e",
   "metadata": {},
   "source": [
    "Laut Aussage von Proposition 2.4 sollte die Menge der nicht-regulären Punkte der Diskriminantenabbildung aus genau zwei irreduziblen Komponenten bestehen, eine Komponente definiert durch alle an $p$ singulären Kurven, d.h. definiert durch $J$, und eine Komponente als Ort aller nicht-reduzierten Kurven, wobei bereits alle nicht-reduzierten Kurven mit vielfachem linearen Faktor diese Komponente definieren sollen, d.h. sie wird durch $K$ definiert. Laut Paper wird also durch $J \\cap K$ die gesamte Menge der nicht-regulären Punkte der Diskriminantenabbildung definiert, da aber auch die durch $L$ definierte Komponente zu dieser Menge gehört, sollte $J \\cap K \\subseteq L$ gelten. Die untenstehende Berechnung widerlegt dies."
   ]
  },
  {
   "cell_type": "code",
   "execution_count": 6,
   "id": "0bd6d1f3",
   "metadata": {
    "scrolled": false
   },
   "outputs": [
    {
     "data": {
      "text/plain": [
       "false"
      ]
     },
     "execution_count": 6,
     "metadata": {},
     "output_type": "execute_result"
    }
   ],
   "source": [
    "INT = intersect(J, K);\n",
    "gens(INT)[1] in L"
   ]
  },
  {
   "cell_type": "markdown",
   "id": "b4991718",
   "metadata": {},
   "source": [
    "Zuletzt zeigt die Berechnung in der untenstehenden Zelle, dass das Ideal $J\\cap K \\cap L$ ein Polynom vom Grad $5$ enthält, wohingegen $I$ vom Grad $6$ erzeugt wird, d.h. $J\\cap K \\cap L$ ist immer noch echt größer als $I$. Dies kann zwei verschiedene Gründe habe: (a) $V(I)$ hat weitere Komponenten außer $V(J)$, $V(K)$ und $V(L)$ oder (b) $V(I)$ hat keine weiteren Komponenten, aber das Ideal $I$ ist nicht radikal. Wenn die Aussage aus Proposition 2.4 stimmt, dass alle Kurven in $V(I)$ singulär an $p$ oder nicht-reduziert sind, so trifft Erklärung (b) zu."
   ]
  },
  {
   "cell_type": "code",
   "execution_count": 7,
   "id": "10d74ec1",
   "metadata": {},
   "outputs": [
    {
     "data": {
      "text/plain": [
       "5"
      ]
     },
     "execution_count": 7,
     "metadata": {},
     "output_type": "execute_result"
    }
   ],
   "source": [
    "INT1 = intersect(INT, L)\n",
    "total_degree(gens(INT1)[1])"
   ]
  },
  {
   "cell_type": "code",
   "execution_count": null,
   "id": "e950b1cf",
   "metadata": {},
   "outputs": [],
   "source": []
  }
 ],
 "metadata": {
  "kernelspec": {
   "display_name": "Julia 1.11.3",
   "language": "julia",
   "name": "julia-1.11"
  },
  "language_info": {
   "file_extension": ".jl",
   "mimetype": "application/julia",
   "name": "julia",
   "version": "1.11.3"
  }
 },
 "nbformat": 4,
 "nbformat_minor": 5
}
